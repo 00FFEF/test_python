{
  "nbformat": 4,
  "nbformat_minor": 0,
  "metadata": {
    "colab": {
      "name": "python_lambda.ipynb",
      "provenance": [],
      "authorship_tag": "ABX9TyOod/o/pHp6h+y5MQxQxlk/"
    },
    "kernelspec": {
      "name": "python3",
      "display_name": "Python 3"
    },
    "language_info": {
      "name": "python"
    }
  },
  "cells": [
    {
      "cell_type": "code",
      "metadata": {
        "colab": {
          "base_uri": "https://localhost:8080/"
        },
        "id": "VYi5tdyqckZ0",
        "outputId": "6d0b27a5-900c-442a-d562-c6ea81377152"
      },
      "source": [
        "(lambda first, second : first * second + 20)(10,3)"
      ],
      "execution_count": 1,
      "outputs": [
        {
          "output_type": "execute_result",
          "data": {
            "text/plain": [
              "30"
            ]
          },
          "metadata": {
            "tags": []
          },
          "execution_count": 1
        }
      ]
    },
    {
      "cell_type": "code",
      "metadata": {
        "id": "f_-dXnWVfv_k"
      },
      "source": [
        "def plus(first01):\n",
        "  result = first01 + 20\n",
        "  return result\n",
        "\n",
        "def plus(first01, second02):\n",
        "  return first01 + 20 # first01 + 20, return\n",
        "  # result = first01 + 20\n",
        "  # return result"
      ],
      "execution_count": 2,
      "outputs": []
    },
    {
      "cell_type": "code",
      "metadata": {
        "colab": {
          "base_uri": "https://localhost:8080/"
        },
        "id": "TVuTC1L4gZPV",
        "outputId": "6e2650c1-aa0d-4140-a280-467ac4d59267"
      },
      "source": [
        "plus(10), type(plus)"
      ],
      "execution_count": 6,
      "outputs": [
        {
          "output_type": "execute_result",
          "data": {
            "text/plain": [
              "(30, function)"
            ]
          },
          "metadata": {
            "tags": []
          },
          "execution_count": 6
        }
      ]
    },
    {
      "cell_type": "code",
      "metadata": {
        "id": "tVZDC0sAtMcx"
      },
      "source": [
        "plus(20)"
      ],
      "execution_count": null,
      "outputs": []
    },
    {
      "cell_type": "code",
      "metadata": {
        "colab": {
          "base_uri": "https://localhost:8080/"
        },
        "id": "itN94nWegbu9",
        "outputId": "47d4f30c-625a-4bcd-e307-64faa8744ce0"
      },
      "source": [
        "plus_02 = (lambda first : first + 20)\n",
        "type(plus_02)"
      ],
      "execution_count": 7,
      "outputs": [
        {
          "output_type": "execute_result",
          "data": {
            "text/plain": [
              "function"
            ]
          },
          "metadata": {
            "tags": []
          },
          "execution_count": 7
        }
      ]
    },
    {
      "cell_type": "code",
      "metadata": {
        "id": "5LopPeqbtRGJ"
      },
      "source": [
        "plus_02(30)"
      ],
      "execution_count": null,
      "outputs": []
    }
  ]
}